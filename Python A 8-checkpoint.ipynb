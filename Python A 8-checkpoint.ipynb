{
 "cells": [
  {
   "cell_type": "raw",
   "id": "3397c7c7",
   "metadata": {},
   "source": [
    "Q1. What are the two latest user-defined exception constraints in Python 3.X?\n",
    "\n",
    "Q2. How are class-based exceptions that have been raised matched to handlers?\n",
    "\n",
    "Q3. Describe two methods for attaching context information to exception artefacts.\n",
    "\n",
    "Q4. Describe two methods for specifying the text of an exception object's error message.\n",
    "\n",
    "Q5. Why do you no longer use string-based exceptions?"
   ]
  },
  {
   "cell_type": "markdown",
   "id": "493413df",
   "metadata": {},
   "source": [
    "# Q1. What are the two latest user-defined exception constraints in Python 3.X?"
   ]
  },
  {
   "cell_type": "raw",
   "id": "85dd727c",
   "metadata": {},
   "source": [
    "The two latest user-defined exception constraints in Python 3.X:\n",
    "ArithmeticError, AttributeError, ImportError, IOError, FileNotFoundError, etc."
   ]
  },
  {
   "cell_type": "markdown",
   "id": "e3c41d13",
   "metadata": {},
   "source": [
    "# Q2. How are class-based exceptions that have been raised matched to handlers?"
   ]
  },
  {
   "cell_type": "raw",
   "id": "82e0b965",
   "metadata": {},
   "source": [
    "In Python, when an exception is raised, the interpreter searches for an exception handler that can handle the raised exception. The exception handlers are specified using the try and except statements.\n"
   ]
  },
  {
   "cell_type": "markdown",
   "id": "5b5fffef",
   "metadata": {},
   "source": [
    "# Q3. Describe two methods for attaching context information to exception artefacts."
   ]
  },
  {
   "cell_type": "raw",
   "id": "44815aab",
   "metadata": {},
   "source": [
    "1.Using exception arguments:\n",
    "One way to attach context information to an exception artifact is to include it as an argument when raising the exception. For example, if you are trying to read data from a file and encounter an error, you might want to include the filename in the exception message. You can do this by raising an IOError with the filename as an argument:\n",
    "\n",
    "2.Using exception attributes:\n",
    "Another way to attach context information to an exception object is to include it as an attribute of the exception object. You can do this by defining a custom exception class that includes the additional attributes you want to include, and then raising an instance of that class when an error occurs"
   ]
  },
  {
   "cell_type": "markdown",
   "id": "7f12262d",
   "metadata": {},
   "source": [
    "# Q4. Describe two methods for specifying the text of an exception object's error message."
   ]
  },
  {
   "cell_type": "raw",
   "id": "eccb3aa0",
   "metadata": {},
   "source": [
    "There are two main methods for specifying the text of an exception object's error message in Python:\n",
    "\n",
    "1.Using a string argument when raising the exception:\n",
    "When raising an exception, you can pass a string argument that describes the error. \n",
    "2.Defining a custom exception class with an error message attribute:\n",
    "Another way to specify the text of an exception object's error message is to define a custom exception class that includes an error message attribute"
   ]
  },
  {
   "cell_type": "markdown",
   "id": "c16942e7",
   "metadata": {},
   "source": [
    "# Q5. Why do you no longer use string-based exceptions?"
   ]
  },
  {
   "cell_type": "raw",
   "id": "41ff5094",
   "metadata": {},
   "source": [
    "The main reason for this is that string-based exceptions are not as flexible or reliable as using custom exception classes.\n",
    "\n",
    "When using string-based exceptions, it can be difficult to handle errors in a specific and consistent way. Because any string can be used as an exception, it is possible for different parts of the code to raise similar errors with different string messages. This can make it difficult to handle errors in a consistent way, and can make it harder to identify and fix bugs in the code."
   ]
  },
  {
   "cell_type": "code",
   "execution_count": null,
   "id": "86bb4703",
   "metadata": {},
   "outputs": [],
   "source": []
  }
 ],
 "metadata": {
  "kernelspec": {
   "display_name": "Python 3 (ipykernel)",
   "language": "python",
   "name": "python3"
  },
  "language_info": {
   "codemirror_mode": {
    "name": "ipython",
    "version": 3
   },
   "file_extension": ".py",
   "mimetype": "text/x-python",
   "name": "python",
   "nbconvert_exporter": "python",
   "pygments_lexer": "ipython3",
   "version": "3.9.12"
  }
 },
 "nbformat": 4,
 "nbformat_minor": 5
}
