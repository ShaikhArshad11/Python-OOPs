{
 "cells": [
  {
   "cell_type": "raw",
   "id": "6da12a7d",
   "metadata": {},
   "source": [
    "Q1. What is the meaning of multiple inheritance?\n",
    "\n",
    "Q2. What is the concept of delegation?\n",
    "\n",
    "Q3. What is the concept of composition?\n",
    "\n",
    "Q4. What are bound methods and how do we use them?\n",
    "\n",
    "Q5. What is the purpose of pseudoprivate attributes?"
   ]
  },
  {
   "cell_type": "markdown",
   "id": "ec979287",
   "metadata": {},
   "source": [
    "# Q1. What is the meaning of multiple inheritance?"
   ]
  },
  {
   "cell_type": "raw",
   "id": "2ba45e3d",
   "metadata": {},
   "source": [
    "Multiple inheritance is a feature in Python that allows a class to inherit from more than one parent class. This means that a child class can inherit attributes and methods from multiple parent classes. The syntax for multiple inheritance in Python is as follows:\n",
    "\n",
    "class ChildClass(ParentClass1, ParentClass2):\n",
    "    # class definition goes here"
   ]
  },
  {
   "cell_type": "markdown",
   "id": "5074d497",
   "metadata": {},
   "source": [
    "# Q2. What is the concept of delegation?"
   ]
  },
  {
   "cell_type": "raw",
   "id": "ee24db9f",
   "metadata": {},
   "source": [
    "Delegation in Python is a programming pattern where an object delegates a task to another object instead of performing the task itself. Delegation allows for code reuse and modular design by separating responsibilities between objects.\n",
    "\n",
    "In Python, delegation is typically implemented using composition, where one object contains another object as an instance variable and delegates tasks to it. The delegating object provides an interface for the delegated object, which specifies the methods that the delegated object must implement."
   ]
  },
  {
   "cell_type": "markdown",
   "id": "16f3509e",
   "metadata": {},
   "source": [
    "# Q3. What is the concept of composition?"
   ]
  },
  {
   "cell_type": "raw",
   "id": "6294b736",
   "metadata": {},
   "source": [
    "Composition in Python is a programming pattern where an object contains one or more other objects as instance variables. Composition allows for code reuse and modular design by combining simpler objects to create more complex objects."
   ]
  },
  {
   "cell_type": "markdown",
   "id": "46ceccdd",
   "metadata": {},
   "source": [
    "# Q4. What are bound methods and how do we use them?"
   ]
  },
  {
   "cell_type": "raw",
   "id": "adb54c25",
   "metadata": {},
   "source": [
    "In Python, a bound method is a method that is attached to an instance of a class. When a method is called on an instance of a class, the instance is passed as the first argument to the method. This first argument is conventionally named self and is used to refer to the instance within the method.\n",
    "\n",
    "Bound methods can be used to access and modify the instance variables of an object, and they can be called from within the class or from outside the class."
   ]
  },
  {
   "cell_type": "markdown",
   "id": "8388f081",
   "metadata": {},
   "source": [
    "# Q5. What is the purpose of pseudoprivate attributes?"
   ]
  },
  {
   "cell_type": "raw",
   "id": "1db43ec6",
   "metadata": {},
   "source": [
    "The purpose of pseudoprivate attributes is to avoid naming conflicts between attributes of a class and attributes of its subclasses or other classes that use the same attribute names. The name mangling mechanism ensures that the attribute name is prefixed with _classname to make it more difficult to access or modify accidentally from outside the class."
   ]
  },
  {
   "cell_type": "code",
   "execution_count": null,
   "id": "533f0ea8",
   "metadata": {},
   "outputs": [],
   "source": []
  }
 ],
 "metadata": {
  "kernelspec": {
   "display_name": "Python 3 (ipykernel)",
   "language": "python",
   "name": "python3"
  },
  "language_info": {
   "codemirror_mode": {
    "name": "ipython",
    "version": 3
   },
   "file_extension": ".py",
   "mimetype": "text/x-python",
   "name": "python",
   "nbconvert_exporter": "python",
   "pygments_lexer": "ipython3",
   "version": "3.9.12"
  }
 },
 "nbformat": 4,
 "nbformat_minor": 5
}
