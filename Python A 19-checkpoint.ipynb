{
 "cells": [
  {
   "cell_type": "raw",
   "id": "9930b3ef",
   "metadata": {},
   "source": [
    "Q1. Define the relationship between a class and its instances. Is it a one-to-one or a one-to-many\n",
    "partnership, for example?\n",
    "\n",
    "Q2. What kind of data is held only in an instance?\n",
    "\n",
    "Q3. What kind of knowledge is stored in a class?\n",
    "\n",
    "Q4. What exactly is a method, and how is it different from a regular function?\n",
    "\n",
    "Q5. Is inheritance supported in Python, and if so, what is the syntax?\n",
    "\n",
    "Q6. How much encapsulation (making instance or class variables private) does Python support?\n",
    "\n",
    "Q7. How do you distinguish between a class variable and an instance variable?\n",
    "\n",
    "Q8. When, if ever, can self be included in a class's method definitions?\n",
    "\n",
    "Q9. What is the difference between the _ _add_ _ and the _ _radd_ _ methods?\n",
    "\n",
    "Q10. When is it necessary to use a reflection method? When do you not need it, even though you\n",
    "support the operation in question?\n",
    "\n",
    "Q11. What is the _ _iadd_ _ method called?\n",
    "\n",
    "Q12. Is the _ _init_ _ method inherited by subclasses? What do you do if you need to customize its\n",
    "behavior within a subclass?"
   ]
  },
  {
   "cell_type": "markdown",
   "id": "979e393e",
   "metadata": {},
   "source": [
    "# Q1. Define the relationship between a class and its instances. Is it a one-to-one or a one-to-many partnership, for example?"
   ]
  },
  {
   "cell_type": "raw",
   "id": "addd80c0",
   "metadata": {},
   "source": [
    "In object-oriented programming (OOP), a class is a blueprint or template for creating objects, and an instance is an object created from that blueprint. The relationship between a class and its instances is one-to-many, meaning that a single class can have multiple instances."
   ]
  },
  {
   "cell_type": "markdown",
   "id": "67506c8f",
   "metadata": {},
   "source": [
    "# Q2. What kind of data is held only in an instance?"
   ]
  },
  {
   "cell_type": "raw",
   "id": "d2a48717",
   "metadata": {},
   "source": [
    "Instance data can hold any type of data that is supported in Python, including integers, floats, strings, lists, dictionaries, and custom objects. The specific data held in an instance will depend on the design of the class and the attributes defined in the constructor method (__init__())."
   ]
  },
  {
   "cell_type": "markdown",
   "id": "8adb21ea",
   "metadata": {},
   "source": [
    "# Q3. What kind of knowledge is stored in a class?"
   ]
  },
  {
   "cell_type": "raw",
   "id": "3f56725e",
   "metadata": {},
   "source": [
    "The knowledge stored in a class in Python is used to define the behavior and characteristics of instances created from that class. This knowledge can be used to model a wide variety of real-world concepts and to build complex software systems."
   ]
  },
  {
   "cell_type": "markdown",
   "id": "95386a26",
   "metadata": {},
   "source": [
    "# Q4. What exactly is a method, and how is it different from a regular function?"
   ]
  },
  {
   "cell_type": "raw",
   "id": "b779699b",
   "metadata": {},
   "source": [
    "In Python, a method is a function that is defined within a class and is intended to operate on the attributes of an instance of that class. Methods are different from regular functions in that they are bound to a specific instance of a class and can access and modify the attributes of that instance."
   ]
  },
  {
   "cell_type": "markdown",
   "id": "f2ec8408",
   "metadata": {},
   "source": [
    "# Q5. Is inheritance supported in Python, and if so, what is the syntax?"
   ]
  },
  {
   "cell_type": "raw",
   "id": "8b6d4fc5",
   "metadata": {},
   "source": [
    "Yes, inheritance is supported in Python. Inheritance is a mechanism that allows a new class to be based on an existing class, inheriting all the attributes and methods of the existing class, and adding new attributes and methods as needed.\n",
    "\n",
    "Syntax:\n",
    "\n",
    "class ChildClass(ParentClass):\n",
    "    def __init__(self, child_attribute, parent_attribute):\n",
    "        super().__init__(parent_attribute)\n",
    "        self.child_attribute = child_attribute"
   ]
  },
  {
   "cell_type": "markdown",
   "id": "dcd3745a",
   "metadata": {},
   "source": [
    "# Q6. How much encapsulation (making instance or class variables private) does Python support?"
   ]
  },
  {
   "cell_type": "raw",
   "id": "59779fe1",
   "metadata": {},
   "source": [
    "Python supports encapsulation to some extent, but it does not enforce it in the same way that some other object-oriented languages do.\n",
    "Python supports encapsulation to some extent, but it relies more on conventions and best practices than strict enforcement. It is up to the programmer to use encapsulation effectively and to document the intended use of private variables in their code."
   ]
  },
  {
   "cell_type": "markdown",
   "id": "87e0381e",
   "metadata": {},
   "source": [
    "# Q7. How do you distinguish between a class variable and an instance variable?"
   ]
  },
  {
   "cell_type": "raw",
   "id": "7aabe6f0",
   "metadata": {},
   "source": [
    "In Python, a class variable is a variable that is shared by all instances of a class, while an instance variable is a variable that is specific to a single instance of a class."
   ]
  },
  {
   "cell_type": "markdown",
   "id": "b5c64693",
   "metadata": {},
   "source": [
    "# Q8. When, if ever, can self be included in a class's method definitions?"
   ]
  },
  {
   "cell_type": "raw",
   "id": "21149d10",
   "metadata": {},
   "source": [
    "self is usually included in a method definition whenever the method needs to access or modify instance variables or instance methods of the class. This is because self provides a way for the method to access the instance of the class that it is being called on."
   ]
  },
  {
   "cell_type": "markdown",
   "id": "b4bb54df",
   "metadata": {},
   "source": [
    "# Q9. What is the difference between the _ _add_ _ and the _ _radd_ _ methods?"
   ]
  },
  {
   "cell_type": "raw",
   "id": "46823a0b",
   "metadata": {},
   "source": [
    "__add__ is called when the addition operator is used with an instance of the class as the left operand, and another object as the right operand.\n",
    "\n",
    "__radd__ is similar to __add__, but it is called when the addition operator is used with an object that is not an instance of the class as the left operand, and an instance of the class as the right operand. "
   ]
  },
  {
   "cell_type": "markdown",
   "id": "500dae8c",
   "metadata": {},
   "source": [
    "# Q10. When is it necessary to use a reflection method? When do you not need it, even though you support the operation in question?"
   ]
  },
  {
   "cell_type": "raw",
   "id": "2557969b",
   "metadata": {},
   "source": [
    "Reflection is necessary when you need to perform operations dynamically at runtime.\n",
    "On the other hand, reflection can be avoided when you don't need to perform operations dynamically. "
   ]
  },
  {
   "cell_type": "markdown",
   "id": "93d3b0d2",
   "metadata": {},
   "source": [
    "# Q11. What is the _ _iadd_ _ method called?"
   ]
  },
  {
   "cell_type": "raw",
   "id": "41a0a191",
   "metadata": {},
   "source": [
    "The __iadd__ method is a special method in Python, also known as the \"in-place addition\" method. It is called when the += operator is used to add two objects together in place, meaning the result is stored back in the left-hand side object."
   ]
  },
  {
   "cell_type": "markdown",
   "id": "6e33169e",
   "metadata": {},
   "source": [
    "# Q12. Is the _ _init_ _ method inherited by subclasses? What do you do if you need to customize its behavior within a subclass?"
   ]
  },
  {
   "cell_type": "raw",
   "id": "a53093ca",
   "metadata": {},
   "source": [
    "Yes, the __init__ method is inherited by subclasses in Python. When a subclass is created, it inherits all the methods and attributes of its parent class, including the __init__ method.\n",
    "\n",
    "If you need to customize the behavior of __init__ in a subclass, you can override it by defining a new __init__ method in the subclass. The new method will replace the inherited method and will be called instead of the parent class's __init__ method when an object of the subclass is instantiated."
   ]
  },
  {
   "cell_type": "code",
   "execution_count": null,
   "id": "de449c94",
   "metadata": {},
   "outputs": [],
   "source": []
  }
 ],
 "metadata": {
  "kernelspec": {
   "display_name": "Python 3 (ipykernel)",
   "language": "python",
   "name": "python3"
  },
  "language_info": {
   "codemirror_mode": {
    "name": "ipython",
    "version": 3
   },
   "file_extension": ".py",
   "mimetype": "text/x-python",
   "name": "python",
   "nbconvert_exporter": "python",
   "pygments_lexer": "ipython3",
   "version": "3.9.12"
  }
 },
 "nbformat": 4,
 "nbformat_minor": 5
}
