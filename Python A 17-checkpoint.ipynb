{
 "cells": [
  {
   "cell_type": "raw",
   "id": "0bb60e01",
   "metadata": {},
   "source": [
    "Q1. Explain the difference between greedy and non-greedy syntax with visual terms in as few words\n",
    "as possible. What is the bare minimum effort required to transform a greedy pattern into a non-greedy\n",
    "one? What characters or characters can you introduce or change?\n",
    "\n",
    "Q2. When exactly does greedy versus non-greedy make a difference?  What if you're looking for a\n",
    "non-greedy match but the only one available is greedy?\n",
    "\n",
    "Q3. In a simple match of a string, which looks only for one match and does not do any replacement, is\n",
    "the use of a nontagged group likely to make any practical difference?\n",
    "\n",
    "Q4. Describe a scenario in which using a nontagged category would have a significant impact on the\n",
    "program's outcomes.\n",
    "\n",
    "Q5. Unlike a normal regex pattern, a look-ahead condition does not consume the characters it\n",
    "examines. Describe a situation in which this could make a difference in the results of your\n",
    "programme.\n",
    "\n",
    "Q6. In standard expressions, what is the difference between positive look-ahead and negative look-\n",
    "ahead?\n",
    "\n",
    "Q7. What is the benefit of referring to groups by name rather than by number in a standard\n",
    "expression?\n",
    "\n",
    "Q8. Can you identify repeated items within a target string using named groups, as in &quot;The cow\n",
    "jumped over the moon\"?\n",
    "\n",
    "Q9. When parsing a string, what is at least one thing that the Scanner interface does for you that the\n",
    "re.findall feature does not?\n",
    "\n",
    "Q10. Does a scanner object have to be named scanner?"
   ]
  },
  {
   "cell_type": "markdown",
   "id": "3d4e1f40",
   "metadata": {},
   "source": [
    "# Q1. Explain the difference between greedy and non-greedy syntax with visual terms in as few words as possible. What is the bare minimum effort required to transform a greedy pattern into a non-greedy one? What characters or characters can you introduce or change?"
   ]
  },
  {
   "cell_type": "raw",
   "id": "0dba1289",
   "metadata": {},
   "source": [
    "Greedy syntax matches the longest possible substring, while non-greedy syntax matches the shortest possible substring.\n",
    "\n",
    "To transform a greedy pattern into a non-greedy one, simply add a ? after the quantifier (e.g., *?, +?, ??, {n,}?).\n",
    "\n",
    "In Python, you can introduce or change the ? character to modify a greedy pattern to a non-greedy one."
   ]
  },
  {
   "cell_type": "markdown",
   "id": "84c840d4",
   "metadata": {},
   "source": [
    "# Q2. When exactly does greedy versus non-greedy make a difference?  What if you're looking for a non-greedy match but the only one available is greedy?"
   ]
  },
  {
   "cell_type": "raw",
   "id": "2c31ddce",
   "metadata": {},
   "source": [
    "Greedy versus non-greedy syntax makes a difference when there are multiple possible matches for a pattern, and the pattern includes a quantifier such as *, +, ?, or {n,m}.\n",
    "\n",
    "If you're looking for a non-greedy match but the only available pattern is greedy, you can modify the pattern to make it non-greedy by adding a ? after the quantifier. This will cause the pattern to match the shortest possible substring instead of the longest."
   ]
  },
  {
   "cell_type": "markdown",
   "id": "9cc725b2",
   "metadata": {},
   "source": [
    "# Q3. In a simple match of a string, which looks only for one match and does not do any replacement, is the use of a nontagged group likely to make any practical difference?"
   ]
  },
  {
   "cell_type": "raw",
   "id": "358d4b6f",
   "metadata": {},
   "source": [
    "In a simple match of a string that only looks for one match and does not do any replacement, the use of a non-capturing group (also known as a non-tagged group) is unlikely to make any practical difference in Python."
   ]
  },
  {
   "cell_type": "markdown",
   "id": "1a6b1310",
   "metadata": {},
   "source": [
    "# Q4. Describe a scenario in which using a nontagged category would have a significant impact on the program's outcomes"
   ]
  },
  {
   "cell_type": "raw",
   "id": "696032c3",
   "metadata": {},
   "source": [
    "One scenario in which using a non-capturing group (also known as a non-tagged category) would have a significant impact on a program's outcomes in Python is when you're using a regular expression with multiple capturing groups, and you want to extract only certain parts of the matched substring."
   ]
  },
  {
   "cell_type": "markdown",
   "id": "e7e97734",
   "metadata": {},
   "source": [
    "# Q5. Unlike a normal regex pattern, a look-ahead condition does not consume the characters it examines. Describe a situation in which this could make a difference in the results of your programme."
   ]
  },
  {
   "cell_type": "raw",
   "id": "cd8d250a",
   "metadata": {},
   "source": [
    "A look-ahead assertion is a zero-width assertion in a regular expression that matches a pattern only if the pattern is followed by another specific pattern. Since a look-ahead assertion does not consume the characters it examines, it can make a difference in the results of a program when used in certain scenarios.\n",
    "\n",
    "One situation where this could make a difference is when you need to match a specific pattern only if it is followed by another specific pattern, but you don't want the second pattern to be included in the final match. For example, suppose you want to match email addresses in a text, but you want to exclude email addresses that end with \".edu\". You can use a negative look-ahead assertion to achieve this."
   ]
  },
  {
   "cell_type": "markdown",
   "id": "3b208e7b",
   "metadata": {},
   "source": [
    "# Q6. In standard expressions, what is the difference between positive look-ahead and negative look- ahead?"
   ]
  },
  {
   "cell_type": "raw",
   "id": "ca5a733f",
   "metadata": {},
   "source": [
    "Positive look-ahead assertion, denoted by (?=...), matches a pattern only if the pattern is followed by another specific pattern. This means that the regular expression will match only if the positive look-ahead assertion is immediately followed by the specified pattern.\n",
    "\n",
    "Negative look-ahead assertion, denoted by (?!...), matches a pattern only if the pattern is not followed by another specific pattern. This means that the regular expression will match only if the negative look-ahead assertion is not immediately followed by the specified pattern."
   ]
  },
  {
   "cell_type": "markdown",
   "id": "a0cbecc9",
   "metadata": {},
   "source": [
    "# Q7. What is the benefit of referring to groups by name rather than by number in a standard expression?"
   ]
  },
  {
   "cell_type": "raw",
   "id": "1bbe6dcc",
   "metadata": {},
   "source": [
    "In a standard expression, referring to groups by name rather than by number has several benefits:\n",
    "1. Readability.\n",
    "2. Clarity.\n",
    "3. Flexibility.\n",
    "4. Self-Documentation.\n",
    "\n",
    "Using named groups in a regular expression can make the regular expression more readable, easier to understand, and more maintainable, which can save time and reduce the likelihood of errors in the long run."
   ]
  },
  {
   "cell_type": "markdown",
   "id": "fe6ce4d0",
   "metadata": {},
   "source": [
    "# Q8. Can you identify repeated items within a target string using named groups, as in &quot;The cow jumped over the moon\"?"
   ]
  },
  {
   "cell_type": "raw",
   "id": "a0230f82",
   "metadata": {},
   "source": [
    "Yes, you can identify repeated items within a target string using named groups in Python.\n",
    "\n",
    "import re\n",
    "\n",
    "text = \"The cow jumped over the moon and the cow jumped over the fence\"\n",
    "pattern = r\"\\b(?P<word>\\w+)\\b.*\\b(?P=word)\\b\"\n",
    "matches = re.findall(pattern, text)\n",
    "print(matches)"
   ]
  },
  {
   "cell_type": "markdown",
   "id": "397f2f3c",
   "metadata": {},
   "source": [
    "# Q9. When parsing a string, what is at least one thing that the Scanner interface does for you that the re.findall feature does not?"
   ]
  },
  {
   "cell_type": "raw",
   "id": "5901de58",
   "metadata": {},
   "source": [
    "The re.findall function returns a list of all non-overlapping matches of a regular expression in a string. It does not provide the same level of fine-grained control over the parsing process or access to token-specific information that the Scanner interface does.\n",
    "If you need to parse a string and tokenize it into individual elements using regular expressions, the Scanner interface in Java may be a better choice than the re.findall function in Python, as it provides more control and flexibility over the parsing process."
   ]
  },
  {
   "cell_type": "markdown",
   "id": "4371ce15",
   "metadata": {},
   "source": [
    "# Q10. Does a scanner object have to be named scanner?"
   ]
  },
  {
   "cell_type": "raw",
   "id": "6741329f",
   "metadata": {},
   "source": [
    "A Scanner object does not have to be named scanner in Python, as you can use any valid variable name to represent the regular expression pattern object."
   ]
  },
  {
   "cell_type": "code",
   "execution_count": null,
   "id": "b5ccdbe7",
   "metadata": {},
   "outputs": [],
   "source": []
  }
 ],
 "metadata": {
  "kernelspec": {
   "display_name": "Python 3 (ipykernel)",
   "language": "python",
   "name": "python3"
  },
  "language_info": {
   "codemirror_mode": {
    "name": "ipython",
    "version": 3
   },
   "file_extension": ".py",
   "mimetype": "text/x-python",
   "name": "python",
   "nbconvert_exporter": "python",
   "pygments_lexer": "ipython3",
   "version": "3.9.12"
  }
 },
 "nbformat": 4,
 "nbformat_minor": 5
}
