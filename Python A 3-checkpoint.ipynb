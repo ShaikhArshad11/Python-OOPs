{
 "cells": [
  {
   "cell_type": "raw",
   "id": "c582379b",
   "metadata": {},
   "source": [
    "1. What is the concept of an abstract superclass?\n",
    "\n",
    "2. What happens when a class statement's top level contains a basic assignment statement?\n",
    "\n",
    "3. Why does a class need to manually call a superclass's __init__ method?\n",
    "\n",
    "4. How can you augment, instead of completely replacing, an inherited method?\n",
    "\n",
    "5. How is the local scope of a class different from that of a function?"
   ]
  },
  {
   "cell_type": "markdown",
   "id": "8fae4397",
   "metadata": {},
   "source": [
    "# 1. What is the concept of an abstract superclass?"
   ]
  },
  {
   "cell_type": "raw",
   "id": "c6c46a58",
   "metadata": {},
   "source": [
    "In Python, an abstract superclass is a class that is designed to be inherited from, but not instantiated directly. It is a class that defines common attributes and methods that will be inherited by its subclasses, but it does not provide a complete implementation for all of its methods. Instead, it leaves some of the methods undefined or \"abstract\", which must be implemented by its subclasses."
   ]
  },
  {
   "cell_type": "markdown",
   "id": "c4a57773",
   "metadata": {},
   "source": [
    "# 2. What happens when a class statement's top level contains a basic assignment statement?"
   ]
  },
  {
   "cell_type": "raw",
   "id": "6f95d14f",
   "metadata": {},
   "source": [
    "In Python, when a class statement's top level contains a basic assignment statement, it creates a class attribute that is shared by all instances of the class."
   ]
  },
  {
   "cell_type": "markdown",
   "id": "24eef85c",
   "metadata": {},
   "source": [
    "# 3. Why does a class need to manually call a superclass's __init__ method?"
   ]
  },
  {
   "cell_type": "raw",
   "id": "ff9cff07",
   "metadata": {},
   "source": [
    "In Python, a class needs to manually call a superclass's __init__ method in order to properly initialize the attributes of the superclass.\n",
    "\n",
    "When a class is defined, it inherits all of the attributes and methods of its superclass (or superclasses). This includes the __init__ method, which is responsible for initializing the attributes of the object."
   ]
  },
  {
   "cell_type": "markdown",
   "id": "614dc360",
   "metadata": {},
   "source": [
    "# 4. How can you augment, instead of completely replacing, an inherited method?"
   ]
  },
  {
   "cell_type": "raw",
   "id": "22630ba4",
   "metadata": {},
   "source": [
    "In Python, you can augment, instead of completely replacing, an inherited method by calling the method of the superclass from the subclass using the super() function.\n",
    "The super() function returns a temporary object of the superclass, which allows you to call its methods. By calling the method of the superclass from the subclass, you can add to or modify the behavior of the inherited method without completely replacing it.\n"
   ]
  },
  {
   "cell_type": "markdown",
   "id": "fa5a17d8",
   "metadata": {},
   "source": [
    "# 5. How is the local scope of a class different from that of a function?"
   ]
  },
  {
   "cell_type": "raw",
   "id": "249db57d",
   "metadata": {},
   "source": [
    "For example, if you assign a value to a name inside a function, then that name will have a local Python scope. In contrast, if you assign a value to a name outside of all functions—say, at the top level of a module—then that name will have a global Python scope."
   ]
  },
  {
   "cell_type": "code",
   "execution_count": null,
   "id": "2b5cdceb",
   "metadata": {},
   "outputs": [],
   "source": []
  }
 ],
 "metadata": {
  "kernelspec": {
   "display_name": "Python 3 (ipykernel)",
   "language": "python",
   "name": "python3"
  },
  "language_info": {
   "codemirror_mode": {
    "name": "ipython",
    "version": 3
   },
   "file_extension": ".py",
   "mimetype": "text/x-python",
   "name": "python",
   "nbconvert_exporter": "python",
   "pygments_lexer": "ipython3",
   "version": "3.9.12"
  }
 },
 "nbformat": 4,
 "nbformat_minor": 5
}
