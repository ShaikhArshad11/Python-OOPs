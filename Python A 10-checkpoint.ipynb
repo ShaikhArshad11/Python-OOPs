{
 "cells": [
  {
   "cell_type": "raw",
   "id": "6bc30392",
   "metadata": {},
   "source": [
    "Q1. What is the difference between __getattr__ and __getattribute__?\n",
    "\n",
    "Q2. What is the difference between properties and descriptors?\n",
    "\n",
    "Q3. What are the key differences in functionality between __getattr__ and __getattribute__, as well as\n",
    "properties and descriptors?"
   ]
  },
  {
   "cell_type": "markdown",
   "id": "a60c4836",
   "metadata": {},
   "source": [
    "# Q1. What is the difference between __getattr__ and __getattribute__?"
   ]
  },
  {
   "cell_type": "raw",
   "id": "bccac46f",
   "metadata": {},
   "source": [
    "__getattr__ is called only when the requested attribute is not found by the usual lookup mechanism (i.e., it is not an instance attribute, a class attribute, or a built-in attribute). It takes a single argument, the name of the attribute being requested, and should return the value of the attribute or raise an AttributeError if the attribute is not found.\n",
    "\n",
    "__getattribute__, on the other hand, is called every time an attribute is accessed, regardless of whether it exists or not. It takes a single argument, the name of the attribute being requested, and should return the value of the attribute. If you need to access the value of the attribute being requested, you can use the super() function to call the parent class's __getattribute__ "
   ]
  },
  {
   "cell_type": "markdown",
   "id": "e15437af",
   "metadata": {},
   "source": [
    "# Q2. What is the difference between properties and descriptors?"
   ]
  },
  {
   "cell_type": "raw",
   "id": "c604f26f",
   "metadata": {},
   "source": [
    "A property is a built-in Python feature that allows you to define methods that are accessed like attributes. When a property is accessed, the method associated with the property is called and its return value is used as the attribute value. When a property is set, the method associated with the property is called with the new value as an argument.\n",
    "\n",
    "A descriptor, on the other hand, is a more general mechanism for defining custom attribute access behavior. A descriptor is an object that defines one or more of the __get__(), __set__(), or __delete__() methods. When an object is accessed through a descriptor, the appropriate method on the descriptor object is called, and its return value is used as the attribute value. "
   ]
  },
  {
   "cell_type": "markdown",
   "id": "2be5b60e",
   "metadata": {},
   "source": [
    "# Q3. What are the key differences in functionality between __getattr__ and __getattribute__, as well as properties and descriptors?"
   ]
  },
  {
   "cell_type": "raw",
   "id": "fbbec6cf",
   "metadata": {},
   "source": [
    "__getattr__ is called only when an attribute is not found through the usual lookup chain, i.e., when the attribute does not exist in the object's dictionary or in any of its class's dictionaries. It takes one argument, the name of the attribute being accessed, and should return the value of the attribute.\n",
    "__getattribute__ is called on every attribute access, whether the attribute exists in the object's dictionary or not. It takes one argument, the name of the attribute being accessed, and should return the value of the attribute. If __getattribute__ raises an exception or returns a value, it will override any value found in the object's dictionary or in its class's dictionaries.\n",
    "\n",
    "Properties are a built-in Python feature that allow you to define methods that are accessed like attributes. When a property is accessed, the method associated with the property is called and its return value is used as the attribute value. When a property is set, the method associated with the property is called with the new value as an argument.\n",
    "Descriptors are a more general mechanism for defining custom attribute access behavior. A descriptor is an object that defines one or more of the __get__(), __set__(), or __delete__() methods. When an object is accessed through a descriptor, the appropriate method on the descriptor object is called, and its return value is used as the attribute value."
   ]
  },
  {
   "cell_type": "code",
   "execution_count": null,
   "id": "fdf38766",
   "metadata": {},
   "outputs": [],
   "source": []
  }
 ],
 "metadata": {
  "kernelspec": {
   "display_name": "Python 3 (ipykernel)",
   "language": "python",
   "name": "python3"
  },
  "language_info": {
   "codemirror_mode": {
    "name": "ipython",
    "version": 3
   },
   "file_extension": ".py",
   "mimetype": "text/x-python",
   "name": "python",
   "nbconvert_exporter": "python",
   "pygments_lexer": "ipython3",
   "version": "3.9.12"
  }
 },
 "nbformat": 4,
 "nbformat_minor": 5
}
