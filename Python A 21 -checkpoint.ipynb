{
 "cells": [
  {
   "cell_type": "raw",
   "id": "6e81bb78",
   "metadata": {},
   "source": [
    "Q1. What is a probability distribution, exactly? If the values are meant to be random, how can you\n",
    "predict them at all?\n",
    "\n",
    "Q2. Is there a distinction between true random numbers and pseudo-random numbers, if there is\n",
    "one? Why are the latter considered “good enough”?\n",
    "\n",
    "Q3. What are the two main factors that influence the behaviour of a \"normal\" probability distribution?\n",
    "\n",
    "Q4. Provide a real-life example of a normal distribution.\n",
    "\n",
    "Q5. In the short term, how can you expect a probability distribution to behave? What do you think will\n",
    "happen as the number of trials grows?\n",
    "\n",
    "Q6. What kind of object can be shuffled by using random.shuffle?\n",
    "\n",
    "Q7. Describe the math package's general categories of functions.\n",
    "\n",
    "Q8. What is the relationship between exponentiation and logarithms?\n",
    "\n",
    "Q9. What are the three logarithmic functions that Python supports?"
   ]
  },
  {
   "cell_type": "markdown",
   "id": "26af8230",
   "metadata": {},
   "source": [
    "# Q1. What is a probability distribution, exactly? If the values are meant to be random, how can you predict them at all?"
   ]
  },
  {
   "cell_type": "raw",
   "id": "f1a395ad",
   "metadata": {},
   "source": [
    "A probability distribution is a function that describes the likelihood of different outcomes in a random process. In other words, it describes the probability of different possible values that a random variable can take.\n",
    "Probability distributions are used to model random variables in Python, and the values of the distribution are generated randomly according to the distribution's PDF."
   ]
  },
  {
   "cell_type": "markdown",
   "id": "652fc836",
   "metadata": {},
   "source": [
    "# Q2. Is there a distinction between true random numbers and pseudo-random numbers, if there is one? Why are the latter considered “good enough”?"
   ]
  },
  {
   "cell_type": "raw",
   "id": "d452c4d7",
   "metadata": {},
   "source": [
    "Yes, there is a distinction between true random numbers and pseudo-random numbers. True random numbers are generated from a physical source of randomness, such as atmospheric noise, radioactive decay, or thermal noise. These sources are truly unpredictable and can produce a completely random sequence of numbers.\n"
   ]
  },
  {
   "cell_type": "markdown",
   "id": "7ddf5719",
   "metadata": {},
   "source": [
    "# Q3. What are the two main factors that influence the behaviour of a \"normal\" probability distribution?"
   ]
  },
  {
   "cell_type": "raw",
   "id": "7171b79c",
   "metadata": {},
   "source": [
    "The behavior of a \"normal\" probability distribution in Python is influenced by two main factors:\n",
    "\n",
    "Mean: The mean (or average) of the distribution determines where the center of the distribution is located. In a normal distribution, the mean is also the peak of the distribution. If the mean is shifted to the left or right, the entire distribution will shift accordingly.\n",
    "\n",
    "Standard deviation: The standard deviation measures the spread of the distribution. A higher standard deviation means that the values in the distribution are more spread out from the mean, while a lower standard deviation means that the values are clustered closer to the mean."
   ]
  },
  {
   "cell_type": "markdown",
   "id": "09de4cb0",
   "metadata": {},
   "source": [
    "# Q4. Provide a real-life example of a normal distribution."
   ]
  },
  {
   "cell_type": "raw",
   "id": "c738ad55",
   "metadata": {},
   "source": [
    "A real-life example of a normal distribution is the distribution of heights of adult humans."
   ]
  },
  {
   "cell_type": "markdown",
   "id": "b8cabc30",
   "metadata": {},
   "source": [
    "# Q5. In the short term, how can you expect a probability distribution to behave? What do you think will happen as the number of trials grows?"
   ]
  },
  {
   "cell_type": "raw",
   "id": "57a09cff",
   "metadata": {},
   "source": [
    "In the short term, a probability distribution may behave differently from its long-term or theoretical behavior. This is because random events can create fluctuations in the observed distribution, which may not reflect the true underlying distribution."
   ]
  },
  {
   "cell_type": "markdown",
   "id": "f5582a67",
   "metadata": {},
   "source": [
    "# Q6. What kind of object can be shuffled by using random.shuffle?"
   ]
  },
  {
   "cell_type": "raw",
   "id": "cf8eb51a",
   "metadata": {},
   "source": [
    "The random.shuffle function in Python can be used to shuffle a sequence type object.\n",
    "\n",
    "A sequence is an ordered collection of elements, and in Python, there are several built-in sequence types that can be shuffled using the random.shuffle function, such as lists, tuples, and strings (which are treated as sequences of characters)."
   ]
  },
  {
   "cell_type": "markdown",
   "id": "09e354f5",
   "metadata": {},
   "source": [
    "# Q7. Describe the math package's general categories of functions."
   ]
  },
  {
   "cell_type": "raw",
   "id": "3a289236",
   "metadata": {},
   "source": [
    "The math module in Python provides a wide range of mathematical functions that can be used to perform various calculations.\n",
    "\n",
    "Some of the commonly used functions in the math module are:\n",
    "\n",
    "Trigonometric functions: sin(), cos(), tan(), asin(), acos(), atan()\n",
    "Exponential and logarithmic functions: exp(), log(), log10()\n",
    "Arithmetic functions: ceil(), floor(), fabs(), fmod(), pow(), sqrt()\n",
    "Statistical functions: mean(), median(), mode(), variance(), stddev()"
   ]
  },
  {
   "cell_type": "markdown",
   "id": "81e7ae50",
   "metadata": {},
   "source": [
    "# Q8. What is the relationship between exponentiation and logarithms?"
   ]
  },
  {
   "cell_type": "raw",
   "id": "b9e39030",
   "metadata": {},
   "source": [
    "In Python, exponentiation and logarithms are related operations that can be used to solve equations and perform calculations involving powers and exponents.\n",
    "\n",
    "Exponentiation is the operation of raising a number to a power. In Python, we can use the ** operator or the pow() function to perform exponentiation. For example, the expression 2 ** 3 evaluates to 8, which is 2 raised to the power of 3.\n",
    "\n",
    "Logarithms, on the other hand, are the inverse operation of exponentiation. A logarithm is a function that tells us what power we need to raise a given base to in order to get a certain value. In Python, we can use the math.log() function to calculate logarithms."
   ]
  },
  {
   "cell_type": "markdown",
   "id": "2fb14034",
   "metadata": {},
   "source": [
    "# Q9. What are the three logarithmic functions that Python supports?"
   ]
  },
  {
   "cell_type": "raw",
   "id": "09b4f963",
   "metadata": {},
   "source": [
    "The math module in Python supports three logarithmic functions, which are:\n",
    "\n",
    "math.log(x[, base]): This function returns the natural logarithm (base e) of x, or the logarithm of x to the specified base. If the base is not specified, it defaults to e. The function takes one mandatory argument (x) and an optional argument (base) that defaults to e.\n",
    "\n",
    "math.log10(x): This function returns the base-10 logarithm of x. It takes one mandatory argument (x) that must be a positive number.\n",
    "\n",
    "math.log2(x): This function returns the base-2 logarithm of x. It takes one mandatory argument (x) that must be a positive number."
   ]
  },
  {
   "cell_type": "code",
   "execution_count": null,
   "id": "466906dd",
   "metadata": {},
   "outputs": [],
   "source": []
  }
 ],
 "metadata": {
  "kernelspec": {
   "display_name": "Python 3 (ipykernel)",
   "language": "python",
   "name": "python3"
  },
  "language_info": {
   "codemirror_mode": {
    "name": "ipython",
    "version": 3
   },
   "file_extension": ".py",
   "mimetype": "text/x-python",
   "name": "python",
   "nbconvert_exporter": "python",
   "pygments_lexer": "ipython3",
   "version": "3.9.12"
  }
 },
 "nbformat": 4,
 "nbformat_minor": 5
}
