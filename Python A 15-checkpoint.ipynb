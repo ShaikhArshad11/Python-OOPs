{
 "cells": [
  {
   "cell_type": "raw",
   "id": "16c31b36",
   "metadata": {},
   "source": [
    "1. What are the new features added in Python 3.10 version?\n",
    "2. What is monkey patching in Python?\n",
    "3. What is the difference between a shallow copy and deep copy?\n",
    "4. What is the maximum possible length of an identifier?\n",
    "5. What is generator comprehension?"
   ]
  },
  {
   "cell_type": "markdown",
   "id": "37870a02",
   "metadata": {},
   "source": [
    "# 1. What are the new features added in Python 3.10 version?"
   ]
  },
  {
   "cell_type": "raw",
   "id": "880aa5d4",
   "metadata": {},
   "source": [
    "Structural Pattern Matching (PEP 634): This new syntax allows you to match a value against a set of patterns and execute code based on which pattern matches. It provides a concise and intuitive way to handle conditional logic and has been a highly anticipated feature.\n",
    "\n",
    "Parenthesized Context Managers (PEP 634): This feature allows you to use multiple context managers in a single with statement by wrapping them in parentheses.\n",
    "\n",
    "Improved error messages: Python 3.10 provides more informative error messages, making it easier to debug code and identify issues.\n",
    "\n",
    "New syntax for specifying precise types (PEP 604): This feature allows you to specify more precise types using the new | syntax. This can help catch more errors at compile time and improve code readability."
   ]
  },
  {
   "cell_type": "markdown",
   "id": "0dfafa45",
   "metadata": {},
   "source": [
    "# 2. What is monkey patching in Python?"
   ]
  },
  {
   "cell_type": "raw",
   "id": "4148186b",
   "metadata": {},
   "source": [
    "In Python, Monkey patching is the process of dynamically modifying or extending the behavior of a module or class at runtime, by replacing or adding new code to its existing methods or attributes."
   ]
  },
  {
   "cell_type": "markdown",
   "id": "c99d4fc9",
   "metadata": {},
   "source": [
    "# 3. What is the difference between a shallow copy and deep copy?"
   ]
  },
  {
   "cell_type": "raw",
   "id": "cf56a166",
   "metadata": {},
   "source": [
    "A shallow copy creates a new object but does not create new copies of the object's data. Instead, it references the original data, so changes made to the new object will affect the original object. This means that a shallow copy only copies the outermost object and its immediate properties, and any nested objects are still referenced by both the original and the copied object.\n",
    "\n",
    "A deep copy, on the other hand, creates a new object and recursively copies all of the nested objects as well. This means that any changes made to the copied object will not affect the original object."
   ]
  },
  {
   "cell_type": "markdown",
   "id": "0028d965",
   "metadata": {},
   "source": [
    "# 4. What is the maximum possible length of an identifier?"
   ]
  },
  {
   "cell_type": "raw",
   "id": "a43c0cac",
   "metadata": {},
   "source": [
    " The maximum possible length of an identifier in Python is technically unlimited, but it is recommended to keep identifiers reasonably short to improve code readability."
   ]
  },
  {
   "cell_type": "markdown",
   "id": "27588e1a",
   "metadata": {},
   "source": [
    "# 5. What is generator comprehension?"
   ]
  },
  {
   "cell_type": "raw",
   "id": "620f97be",
   "metadata": {},
   "source": [
    "In Python, generator comprehension is a concise way to create a generator object, which is an iterator that generates values on-the-fly. Generator comprehension is similar to list comprehension, but instead of creating a list, it creates a generator object that can be iterated over using a for loop or other iterable method."
   ]
  },
  {
   "cell_type": "code",
   "execution_count": null,
   "id": "87c81dcc",
   "metadata": {},
   "outputs": [],
   "source": []
  }
 ],
 "metadata": {
  "kernelspec": {
   "display_name": "Python 3 (ipykernel)",
   "language": "python",
   "name": "python3"
  },
  "language_info": {
   "codemirror_mode": {
    "name": "ipython",
    "version": 3
   },
   "file_extension": ".py",
   "mimetype": "text/x-python",
   "name": "python",
   "nbconvert_exporter": "python",
   "pygments_lexer": "ipython3",
   "version": "3.9.12"
  }
 },
 "nbformat": 4,
 "nbformat_minor": 5
}
