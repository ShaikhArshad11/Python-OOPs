{
 "cells": [
  {
   "cell_type": "raw",
   "id": "004cb26b",
   "metadata": {},
   "source": [
    "Q1. What is the concept of a metaclass?\n",
    "\n",
    "Q2. What is the best way to declare a class's metaclass?\n",
    "\n",
    "Q3. How do class decorators overlap with metaclasses for handling classes?\n",
    "\n",
    "Q4. How do class decorators overlap with metaclasses for handling instances?"
   ]
  },
  {
   "cell_type": "markdown",
   "id": "67630a51",
   "metadata": {},
   "source": [
    "# Q1. What is the concept of a metaclass?"
   ]
  },
  {
   "cell_type": "raw",
   "id": "611549a4",
   "metadata": {},
   "source": [
    "In Python, a metaclass is a class whose instances are classes. Metaclasses are used to customize the behavior of classes, just as classes are used to customize the behavior of instances.\n",
    "\n",
    "In Python, when you create a class, the type of the class is itself a class. This means that you can create a new class by instantiating the type class, passing in a name, a tuple of base classes, and a dictionary of class attributes. This is the basic mechanism that Python uses to create classes"
   ]
  },
  {
   "cell_type": "markdown",
   "id": "8ce5d5ec",
   "metadata": {},
   "source": [
    "# Q2. What is the best way to declare a class's metaclass?"
   ]
  },
  {
   "cell_type": "raw",
   "id": "c0465274",
   "metadata": {},
   "source": [
    "In Python 3, you can declare a class's metaclass by using the metaclass keyword argument when defining the class.\n",
    "\n",
    "class MyMeta(type):\n",
    "    def __new__(cls, name, bases, attrs):\n",
    "        # Custom logic for creating a new class object\n",
    "        return super().__new__(cls, name, bases, attrs)\n",
    "\n",
    "class MyClass(metaclass=MyMeta):\n",
    "    # Class definition here"
   ]
  },
  {
   "cell_type": "markdown",
   "id": "fada2453",
   "metadata": {},
   "source": [
    "# Q3. How do class decorators overlap with metaclasses for handling classes?"
   ]
  },
  {
   "cell_type": "raw",
   "id": "8df18438",
   "metadata": {},
   "source": [
    "Class decorators and metaclasses are two different mechanisms in Python for customizing class creation and behavior.\n",
    "In terms of overlap, class decorators and metaclasses can be used together to customize a class object in different ways. For example, you could use a class decorator to modify an existing class object, and then use a metaclass to further customize its creation."
   ]
  },
  {
   "cell_type": "markdown",
   "id": "4cd1a18d",
   "metadata": {},
   "source": [
    "# Q4. How do class decorators overlap with metaclasses for handling instances?"
   ]
  },
  {
   "cell_type": "raw",
   "id": "c14125ce",
   "metadata": {},
   "source": [
    "Class decorators and metaclasses are not directly involved in handling instances in Python, as their purpose is to customize the creation and behavior of classes, not instances.\n",
    "\n",
    "That being said, both class decorators and metaclasses can indirectly affect instance creation and behavior, since they can modify the class objects that instances are created from."
   ]
  },
  {
   "cell_type": "code",
   "execution_count": null,
   "id": "0545ce8b",
   "metadata": {},
   "outputs": [],
   "source": []
  }
 ],
 "metadata": {
  "kernelspec": {
   "display_name": "Python 3 (ipykernel)",
   "language": "python",
   "name": "python3"
  },
  "language_info": {
   "codemirror_mode": {
    "name": "ipython",
    "version": 3
   },
   "file_extension": ".py",
   "mimetype": "text/x-python",
   "name": "python",
   "nbconvert_exporter": "python",
   "pygments_lexer": "ipython3",
   "version": "3.9.12"
  }
 },
 "nbformat": 4,
 "nbformat_minor": 5
}
