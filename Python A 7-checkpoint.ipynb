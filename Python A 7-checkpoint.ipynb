{
 "cells": [
  {
   "cell_type": "raw",
   "id": "afe689a0",
   "metadata": {},
   "source": [
    "Q1. What is the purpose of the try statement?\n",
    "\n",
    "Q2. What are the two most popular try statement variations?\n",
    "\n",
    "Q3. What is the purpose of the raise statement?\n",
    "\n",
    "Q4. What does the assert statement do, and what other statement is it like?\n",
    "\n",
    "Q5. What is the purpose of the with/as argument, and what other statement is it like?"
   ]
  },
  {
   "cell_type": "markdown",
   "id": "38733261",
   "metadata": {},
   "source": [
    "# Q1. What is the purpose of the try statement?"
   ]
  },
  {
   "cell_type": "raw",
   "id": "d4a23165",
   "metadata": {},
   "source": [
    "The try statement in Python is used to enclose a block of code that may raise an exception during its execution. The purpose of using the try statement is to handle exceptions that occur during the execution of the code in a controlled manner, rather than abruptly terminating the program with an error message."
   ]
  },
  {
   "cell_type": "markdown",
   "id": "86d022db",
   "metadata": {},
   "source": [
    "# Q2. What are the two most popular try statement variations?"
   ]
  },
  {
   "cell_type": "raw",
   "id": "e12b237b",
   "metadata": {},
   "source": [
    "The two most popular variations of the try statement in Python are:\n",
    "\n",
    "1.try-except block:\n",
    "The try-except block is used to catch and handle specific exceptions that may occur in the try block. If an exception occurs in the try block, Python checks if the exception matches any of the specified except blocks. If a match is found, the corresponding except block is executed to handle the exception. If no match is found, the exception is propagated up to the next level of the call stack.\n",
    "2.try-finally block:\n",
    "The try-finally block is used to ensure that a certain block of code is executed regardless of whether an exception occurred or not. The finally block is guaranteed to be executed even if an exception is raised in the try block or a matching except block. The finally block is typically used to clean up resources such as closing files, database connections, or network connections."
   ]
  },
  {
   "cell_type": "markdown",
   "id": "2ab59f9f",
   "metadata": {},
   "source": [
    "# Q3. What is the purpose of the raise statement?"
   ]
  },
  {
   "cell_type": "raw",
   "id": "611f2ecb",
   "metadata": {},
   "source": [
    "The raise statement in Python is used to explicitly raise an exception or error during the execution of a program. It is typically used when a certain condition is met that warrants an exception to be raised, such as an invalid input or a failure to access a resource. The raise statement can be used with or without arguments."
   ]
  },
  {
   "cell_type": "markdown",
   "id": "711ff0e0",
   "metadata": {},
   "source": [
    "# Q4. What does the assert statement do, and what other statement is it like?"
   ]
  },
  {
   "cell_type": "raw",
   "id": "9efe4a84",
   "metadata": {},
   "source": [
    "The assert keyword is used when debugging code.\n",
    "\n",
    "The assert keyword lets you test if a condition in your code returns True, if not, the program will raise an AssertionError.\n",
    "\n",
    "You can write a message to be written if the code returns False, check the example below."
   ]
  },
  {
   "cell_type": "markdown",
   "id": "2cfeb4a6",
   "metadata": {},
   "source": [
    "# Q5. What is the purpose of the with/as argument, and what other statement is it like?"
   ]
  },
  {
   "cell_type": "raw",
   "id": "f0017354",
   "metadata": {},
   "source": [
    "The with statement in Python is used for resource management and exception handling. You’d most likely find it when working with file streams. "
   ]
  },
  {
   "cell_type": "code",
   "execution_count": null,
   "id": "4be9f1c7",
   "metadata": {},
   "outputs": [],
   "source": []
  }
 ],
 "metadata": {
  "kernelspec": {
   "display_name": "Python 3 (ipykernel)",
   "language": "python",
   "name": "python3"
  },
  "language_info": {
   "codemirror_mode": {
    "name": "ipython",
    "version": 3
   },
   "file_extension": ".py",
   "mimetype": "text/x-python",
   "name": "python",
   "nbconvert_exporter": "python",
   "pygments_lexer": "ipython3",
   "version": "3.9.12"
  }
 },
 "nbformat": 4,
 "nbformat_minor": 5
}
